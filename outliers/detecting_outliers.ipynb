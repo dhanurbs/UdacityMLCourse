{
 "cells": [
  {
   "cell_type": "code",
   "execution_count": 99,
   "metadata": {
    "collapsed": false
   },
   "outputs": [
    {
     "name": "stdout",
     "output_type": "stream",
     "text": [
      "Slope [[ 5.07793064]]\n",
      "Intercept [ 25.21002327]\n",
      "Regression score on test data: 0.878262478835\n"
     ]
    }
   ],
   "source": [
    "import random\n",
    "import numpy\n",
    "import matplotlib.pyplot as plt\n",
    "import pickle\n",
    "\n",
    "from outlier_cleaner import outlierCleaner\n",
    "\n",
    "\n",
    "### load up some practice data with outliers in it\n",
    "ages = pickle.load( open(\"practice_outliers_ages.pkl\", \"r\") )\n",
    "net_worths = pickle.load( open(\"practice_outliers_net_worths.pkl\", \"r\") )\n",
    "\n",
    "\n",
    "\n",
    "### ages and net_worths need to be reshaped into 2D numpy arrays\n",
    "### second argument of reshape command is a tuple of integers: (n_rows, n_columns)\n",
    "### by convention, n_rows is the number of data points\n",
    "### and n_columns is the number of features\n",
    "ages       = numpy.reshape( numpy.array(ages), (len(ages), 1))\n",
    "net_worths = numpy.reshape( numpy.array(net_worths), (len(net_worths), 1))\n",
    "from sklearn.cross_validation import train_test_split\n",
    "ages_train, ages_test, net_worths_train, net_worths_test = train_test_split(ages, net_worths, test_size=0.1, random_state=42)\n",
    "\n",
    "### fill in a regression here!  Name the regression object reg so that\n",
    "### the plotting code below works, and you can see what your regression looks like\n",
    "\n",
    "from sklearn import linear_model\n",
    "reg = linear_model.LinearRegression()\n",
    "reg = reg.fit(ages_train, net_worths_train)\n",
    "print 'Slope', reg.coef_\n",
    "print 'Intercept', reg.intercept_\n",
    "print 'Regression score on test data:', reg.score(ages_test, net_worths_test)"
   ]
  },
  {
   "cell_type": "code",
   "execution_count": 103,
   "metadata": {
    "collapsed": false
   },
   "outputs": [],
   "source": [
    "predictions = reg.predict(ages_train)\n",
    "errors = abs(predictions - net_worths_train)"
   ]
  },
  {
   "cell_type": "code",
   "execution_count": 104,
   "metadata": {
    "collapsed": false
   },
   "outputs": [
    {
     "name": "stdout",
     "output_type": "stream",
     "text": [
      "<type 'numpy.ndarray'>\n"
     ]
    }
   ],
   "source": [
    "print type(errors)"
   ]
  },
  {
   "cell_type": "code",
   "execution_count": 114,
   "metadata": {
    "collapsed": false
   },
   "outputs": [
    {
     "name": "stdout",
     "output_type": "stream",
     "text": [
      "<type 'list'>\n",
      "[57] [ 338.08951849] [ 314.65206994] [ 23.43744855]\n"
     ]
    }
   ],
   "source": [
    "clean = zip(ages_train, net_worths_train, predictions,abs(predictions-net_worths_train))\n",
    "print type(clean)\n",
    "print clean[0][0],clean[0][1],clean[0][2],clean[0][3]"
   ]
  },
  {
   "cell_type": "code",
   "execution_count": 133,
   "metadata": {
    "collapsed": false
   },
   "outputs": [],
   "source": [
    "clean = sorted(clean, key=lambda tup: tup[3])\n",
    "clean_data = clean[0:81]"
   ]
  },
  {
   "cell_type": "code",
   "execution_count": 131,
   "metadata": {
    "collapsed": false
   },
   "outputs": [
    {
     "data": {
      "text/plain": [
       "81"
      ]
     },
     "execution_count": 131,
     "metadata": {},
     "output_type": "execute_result"
    }
   ],
   "source": [
    "len(clean_data)"
   ]
  },
  {
   "cell_type": "code",
   "execution_count": 136,
   "metadata": {
    "collapsed": false
   },
   "outputs": [
    {
     "data": {
      "text/plain": [
       "81"
      ]
     },
     "execution_count": 136,
     "metadata": {},
     "output_type": "execute_result"
    }
   ],
   "source": [
    "len(clean_data[0:])"
   ]
  },
  {
   "cell_type": "code",
   "execution_count": 1,
   "metadata": {
    "collapsed": true
   },
   "outputs": [],
   "source": [
    "import pickle\n",
    "import sys\n",
    "import matplotlib.pyplot\n",
    "sys.path.append(\"../tools/\")\n",
    "from feature_format import featureFormat, targetFeatureSplit\n",
    "\n",
    "\n",
    "### read in data dictionary, convert to numpy array\n",
    "data_dict = pickle.load( open(\"../final_project/final_project_dataset.pkl\", \"r\") )\n",
    "features = [\"salary\", \"bonus\"]\n",
    "data = featureFormat(data_dict, features)"
   ]
  },
  {
   "cell_type": "code",
   "execution_count": 2,
   "metadata": {
    "collapsed": false
   },
   "outputs": [
    {
     "data": {
      "text/plain": [
       "numpy.ndarray"
      ]
     },
     "execution_count": 2,
     "metadata": {},
     "output_type": "execute_result"
    }
   ],
   "source": [
    "type(data)"
   ]
  },
  {
   "cell_type": "code",
   "execution_count": 3,
   "metadata": {
    "collapsed": false
   },
   "outputs": [],
   "source": [
    "import numpy as np"
   ]
  },
  {
   "cell_type": "code",
   "execution_count": 4,
   "metadata": {
    "collapsed": false
   },
   "outputs": [
    {
     "data": {
      "text/plain": [
       "array([[  4.77000000e+02,   0.00000000e+00],\n",
       "       [  6.61500000e+03,   0.00000000e+00],\n",
       "       [  6.37440000e+04,   0.00000000e+00],\n",
       "       [  7.63990000e+04,   0.00000000e+00],\n",
       "       [  8.08180000e+04,   0.00000000e+00],\n",
       "       [  8.52740000e+04,   0.00000000e+00],\n",
       "       [  9.49410000e+04,   0.00000000e+00],\n",
       "       [  9.68400000e+04,   0.00000000e+00],\n",
       "       [  1.30724000e+05,   0.00000000e+00],\n",
       "       [  1.58403000e+05,   0.00000000e+00],\n",
       "       [  1.62779000e+05,   0.00000000e+00],\n",
       "       [  1.70941000e+05,   0.00000000e+00],\n",
       "       [  1.74246000e+05,   0.00000000e+00],\n",
       "       [  1.82245000e+05,   7.00000000e+04],\n",
       "       [  1.84899000e+05,   1.00000000e+05],\n",
       "       [  1.87922000e+05,   1.00000000e+05],\n",
       "       [  1.92008000e+05,   2.00000000e+05],\n",
       "       [  1.97091000e+05,   2.00000000e+05],\n",
       "       [  1.99157000e+05,   2.00000000e+05],\n",
       "       [  2.01955000e+05,   2.50000000e+05],\n",
       "       [  2.06121000e+05,   2.50000000e+05],\n",
       "       [  2.10500000e+05,   3.00000000e+05],\n",
       "       [  2.10692000e+05,   3.00000000e+05],\n",
       "       [  2.11788000e+05,   3.00000000e+05],\n",
       "       [  2.11844000e+05,   3.25000000e+05],\n",
       "       [  2.13625000e+05,   3.25000000e+05],\n",
       "       [  2.13999000e+05,   3.25000000e+05],\n",
       "       [  2.16582000e+05,   3.50000000e+05],\n",
       "       [  2.21003000e+05,   3.50000000e+05],\n",
       "       [  2.22093000e+05,   4.00000000e+05],\n",
       "       [  2.24305000e+05,   4.00000000e+05],\n",
       "       [  2.29284000e+05,   4.00000000e+05],\n",
       "       [  2.31330000e+05,   4.00000000e+05],\n",
       "       [  2.31946000e+05,   4.25000000e+05],\n",
       "       [  2.36457000e+05,   4.50000000e+05],\n",
       "       [  2.39502000e+05,   5.00000000e+05],\n",
       "       [  2.39671000e+05,   5.00000000e+05],\n",
       "       [  2.40189000e+05,   5.09870000e+05],\n",
       "       [  2.43293000e+05,   6.00000000e+05],\n",
       "       [  2.47338000e+05,   6.00000000e+05],\n",
       "       [  2.48017000e+05,   6.00000000e+05],\n",
       "       [  2.48146000e+05,   6.00000000e+05],\n",
       "       [  2.48546000e+05,   6.00000000e+05],\n",
       "       [  2.49201000e+05,   6.00000000e+05],\n",
       "       [  2.50100000e+05,   6.50000000e+05],\n",
       "       [  2.51654000e+05,   7.00000000e+05],\n",
       "       [  2.57486000e+05,   7.00000000e+05],\n",
       "       [  2.59996000e+05,   7.00000000e+05],\n",
       "       [  2.61516000e+05,   7.00000000e+05],\n",
       "       [  2.61809000e+05,   7.00000000e+05],\n",
       "       [  2.61879000e+05,   7.50000000e+05],\n",
       "       [  2.62663000e+05,   7.50000000e+05],\n",
       "       [  2.62788000e+05,   7.50000000e+05],\n",
       "       [  2.63413000e+05,   7.50000000e+05],\n",
       "       [  2.65214000e+05,   7.88750000e+05],\n",
       "       [  2.67093000e+05,   8.00000000e+05],\n",
       "       [  2.67102000e+05,   8.00000000e+05],\n",
       "       [  2.69076000e+05,   8.00000000e+05],\n",
       "       [  2.71442000e+05,   8.00000000e+05],\n",
       "       [  2.72880000e+05,   8.50000000e+05],\n",
       "       [  2.73746000e+05,   8.50000000e+05],\n",
       "       [  2.74975000e+05,   8.50000000e+05],\n",
       "       [  2.75101000e+05,   9.00000000e+05],\n",
       "       [  2.78601000e+05,   9.00000000e+05],\n",
       "       [  2.78601000e+05,   1.00000000e+06],\n",
       "       [  2.88542000e+05,   1.00000000e+06],\n",
       "       [  2.88558000e+05,   1.00000000e+06],\n",
       "       [  2.88589000e+05,   1.00000000e+06],\n",
       "       [  3.04110000e+05,   1.00000000e+06],\n",
       "       [  3.04588000e+05,   1.00000000e+06],\n",
       "       [  3.09946000e+05,   1.10000000e+06],\n",
       "       [  3.14288000e+05,   1.10000000e+06],\n",
       "       [  3.17543000e+05,   1.15000000e+06],\n",
       "       [  3.29078000e+05,   1.20000000e+06],\n",
       "       [  3.30546000e+05,   1.20000000e+06],\n",
       "       [  3.39288000e+05,   1.25000000e+06],\n",
       "       [  3.49487000e+05,   1.30000000e+06],\n",
       "       [  3.57091000e+05,   1.35000000e+06],\n",
       "       [  3.65038000e+05,   1.50000000e+06],\n",
       "       [  3.65163000e+05,   1.50000000e+06],\n",
       "       [  3.65788000e+05,   1.70000000e+06],\n",
       "       [  3.70448000e+05,   1.75000000e+06],\n",
       "       [  3.74125000e+05,   2.00000000e+06],\n",
       "       [  4.04338000e+05,   2.00000000e+06],\n",
       "       [  4.15189000e+05,   2.50000000e+06],\n",
       "       [  4.20636000e+05,   2.60000000e+06],\n",
       "       [  4.28780000e+05,   3.00000000e+06],\n",
       "       [  4.40698000e+05,   3.00000000e+06],\n",
       "       [  4.92375000e+05,   3.10000000e+06],\n",
       "       [  5.10364000e+05,   4.17500000e+06],\n",
       "       [  6.55037000e+05,   5.24999900e+06],\n",
       "       [  1.06093200e+06,   5.60000000e+06],\n",
       "       [  1.07232100e+06,   7.00000000e+06],\n",
       "       [  1.11125800e+06,   8.00000000e+06],\n",
       "       [  2.67042290e+07,   9.73436190e+07]])"
      ]
     },
     "execution_count": 4,
     "metadata": {},
     "output_type": "execute_result"
    }
   ],
   "source": [
    "np.sort(data,axis=0)"
   ]
  },
  {
   "cell_type": "code",
   "execution_count": 5,
   "metadata": {
    "collapsed": false
   },
   "outputs": [
    {
     "data": {
      "text/plain": [
       "{'bonus': 97343619,\n",
       " 'deferral_payments': 32083396,\n",
       " 'deferred_income': -27992891,\n",
       " 'director_fees': 1398517,\n",
       " 'email_address': 'NaN',\n",
       " 'exercised_stock_options': 311764000,\n",
       " 'expenses': 5235198,\n",
       " 'from_messages': 'NaN',\n",
       " 'from_poi_to_this_person': 'NaN',\n",
       " 'from_this_person_to_poi': 'NaN',\n",
       " 'loan_advances': 83925000,\n",
       " 'long_term_incentive': 48521928,\n",
       " 'other': 42667589,\n",
       " 'poi': False,\n",
       " 'restricted_stock': 130322299,\n",
       " 'restricted_stock_deferred': -7576788,\n",
       " 'salary': 26704229,\n",
       " 'shared_receipt_with_poi': 'NaN',\n",
       " 'to_messages': 'NaN',\n",
       " 'total_payments': 309886585,\n",
       " 'total_stock_value': 434509511}"
      ]
     },
     "execution_count": 5,
     "metadata": {},
     "output_type": "execute_result"
    }
   ],
   "source": [
    "data_dict['TOTAL']"
   ]
  },
  {
   "cell_type": "code",
   "execution_count": 6,
   "metadata": {
    "collapsed": false
   },
   "outputs": [
    {
     "data": {
      "text/plain": [
       "{'bonus': 97343619,\n",
       " 'deferral_payments': 32083396,\n",
       " 'deferred_income': -27992891,\n",
       " 'director_fees': 1398517,\n",
       " 'email_address': 'NaN',\n",
       " 'exercised_stock_options': 311764000,\n",
       " 'expenses': 5235198,\n",
       " 'from_messages': 'NaN',\n",
       " 'from_poi_to_this_person': 'NaN',\n",
       " 'from_this_person_to_poi': 'NaN',\n",
       " 'loan_advances': 83925000,\n",
       " 'long_term_incentive': 48521928,\n",
       " 'other': 42667589,\n",
       " 'poi': False,\n",
       " 'restricted_stock': 130322299,\n",
       " 'restricted_stock_deferred': -7576788,\n",
       " 'salary': 26704229,\n",
       " 'shared_receipt_with_poi': 'NaN',\n",
       " 'to_messages': 'NaN',\n",
       " 'total_payments': 309886585,\n",
       " 'total_stock_value': 434509511}"
      ]
     },
     "execution_count": 6,
     "metadata": {},
     "output_type": "execute_result"
    }
   ],
   "source": [
    "data_dict.pop('TOTAL')"
   ]
  },
  {
   "cell_type": "code",
   "execution_count": 7,
   "metadata": {
    "collapsed": false
   },
   "outputs": [],
   "source": [
    "features = [\"salary\", \"bonus\"]\n",
    "data = featureFormat(data_dict, features)"
   ]
  },
  {
   "cell_type": "code",
   "execution_count": 8,
   "metadata": {
    "collapsed": true
   },
   "outputs": [],
   "source": [
    "for point in data:\n",
    "    salary = point[0]\n",
    "    bonus = point[1]\n",
    "    matplotlib.pyplot.scatter( salary, bonus )\n",
    "\n",
    "matplotlib.pyplot.xlabel(\"salary\")\n",
    "matplotlib.pyplot.ylabel(\"bonus\")\n",
    "matplotlib.pyplot.show()"
   ]
  },
  {
   "cell_type": "code",
   "execution_count": 11,
   "metadata": {
    "collapsed": false
   },
   "outputs": [
    {
     "data": {
      "text/plain": [
       "201955"
      ]
     },
     "execution_count": 11,
     "metadata": {},
     "output_type": "execute_result"
    }
   ],
   "source": [
    "data_dict['ALLEN PHILLIP K']['salary']"
   ]
  },
  {
   "cell_type": "code",
   "execution_count": 12,
   "metadata": {
    "collapsed": true
   },
   "outputs": [],
   "source": [
    "names = data_dict.keys()"
   ]
  },
  {
   "cell_type": "code",
   "execution_count": 17,
   "metadata": {
    "collapsed": false
   },
   "outputs": [
    {
     "name": "stdout",
     "output_type": "stream",
     "text": [
      "LAY KENNETH L 1072321\n",
      "SKILLING JEFFREY K 1111258\n",
      "FREVERT MARK A 1060932\n"
     ]
    }
   ],
   "source": [
    "for i in names:\n",
    "    if data_dict[i]['salary'] != 'NaN':\n",
    "        if data_dict[i]['salary'] > 1000000:\n",
    "            print i, data_dict[i]['salary']\n",
    "        else: pass\n",
    "    else: pass"
   ]
  },
  {
   "cell_type": "code",
   "execution_count": 14,
   "metadata": {
    "collapsed": false
   },
   "outputs": [
    {
     "data": {
      "text/plain": [
       "['METTS MARK',\n",
       " 'BAXTER JOHN C',\n",
       " 'ELLIOTT STEVEN',\n",
       " 'CORDES WILLIAM R',\n",
       " 'HANNON KEVIN P',\n",
       " 'MORDAUNT KRISTINA M',\n",
       " 'MEYER ROCKFORD G',\n",
       " 'MCMAHON JEFFREY',\n",
       " 'HORTON STANLEY C',\n",
       " 'PIPER GREGORY F',\n",
       " 'HUMPHREY GENE E',\n",
       " 'UMANOFF ADAM S',\n",
       " 'BLACHMAN JEREMY M',\n",
       " 'SUNDE MARTIN',\n",
       " 'GIBBS DANA R',\n",
       " 'LOWRY CHARLES P',\n",
       " 'COLWELL WESLEY',\n",
       " 'MULLER MARK S',\n",
       " 'JACKSON CHARLENE R',\n",
       " 'WESTFAHL RICHARD K',\n",
       " 'WALTERS GARETH W',\n",
       " 'WALLS JR ROBERT H',\n",
       " 'KITCHEN LOUISE',\n",
       " 'CHAN RONNIE',\n",
       " 'BELFER ROBERT',\n",
       " 'SHANKMAN JEFFREY A',\n",
       " 'WODRASKA JOHN',\n",
       " 'BERGSIEKER RICHARD P',\n",
       " 'URQUHART JOHN A',\n",
       " 'BIBI PHILIPPE A',\n",
       " 'RIEKER PAULA H',\n",
       " 'WHALEY DAVID A',\n",
       " 'BECK SALLY W',\n",
       " 'HAUG DAVID L',\n",
       " 'ECHOLS JOHN B',\n",
       " 'MENDELSOHN JOHN',\n",
       " 'HICKERSON GARY J',\n",
       " 'CLINE KENNETH W',\n",
       " 'LEWIS RICHARD',\n",
       " 'HAYES ROBERT E',\n",
       " 'MCCARTY DANNY J',\n",
       " 'KOPPER MICHAEL J',\n",
       " 'LEFF DANIEL P',\n",
       " 'LAVORATO JOHN J',\n",
       " 'BERBERIAN DAVID',\n",
       " 'DETMERING TIMOTHY J',\n",
       " 'WAKEHAM JOHN',\n",
       " 'POWERS WILLIAM',\n",
       " 'GOLD JOSEPH',\n",
       " 'BANNANTINE JAMES M',\n",
       " 'DUNCAN JOHN H',\n",
       " 'SHAPIRO RICHARD S',\n",
       " 'SHERRIFF JOHN R',\n",
       " 'SHELBY REX',\n",
       " 'LEMAISTRE CHARLES',\n",
       " 'DEFFNER JOSEPH M',\n",
       " 'KISHKILL JOSEPH G',\n",
       " 'WHALLEY LAWRENCE G',\n",
       " 'MCCONNELL MICHAEL S',\n",
       " 'PIRO JIM',\n",
       " 'DELAINEY DAVID W',\n",
       " 'SULLIVAN-SHAKLOVITZ COLLEEN',\n",
       " 'WROBEL BRUCE',\n",
       " 'LINDHOLM TOD A',\n",
       " 'MEYER JEROME J',\n",
       " 'LAY KENNETH L',\n",
       " 'BUTTS ROBERT H',\n",
       " 'OLSON CINDY K',\n",
       " 'MCDONALD REBECCA',\n",
       " 'CUMBERLAND MICHAEL S',\n",
       " 'GAHN ROBERT S',\n",
       " 'MCCLELLAN GEORGE',\n",
       " 'HERMANN ROBERT J',\n",
       " 'SCRIMSHAW MATTHEW',\n",
       " 'GATHMANN WILLIAM D',\n",
       " 'HAEDICKE MARK E',\n",
       " 'BOWEN JR RAYMOND M',\n",
       " 'GILLIS JOHN',\n",
       " 'FITZGERALD JAY L',\n",
       " 'MORAN MICHAEL P',\n",
       " 'REDMOND BRIAN L',\n",
       " 'BAZELIDES PHILIP J',\n",
       " 'BELDEN TIMOTHY N',\n",
       " 'DURAN WILLIAM D',\n",
       " 'THORN TERENCE H',\n",
       " 'FASTOW ANDREW S',\n",
       " 'FOY JOE',\n",
       " 'CALGER CHRISTOPHER F',\n",
       " 'RICE KENNETH D',\n",
       " 'KAMINSKI WINCENTY J',\n",
       " 'LOCKHART EUGENE E',\n",
       " 'COX DAVID',\n",
       " 'OVERDYKE JR JERE C',\n",
       " 'PEREIRA PAULO V. FERRAZ',\n",
       " 'STABLER FRANK',\n",
       " 'SKILLING JEFFREY K',\n",
       " 'BLAKE JR. NORMAN P',\n",
       " 'SHERRICK JEFFREY B',\n",
       " 'PRENTICE JAMES',\n",
       " 'GRAY RODNEY',\n",
       " 'PICKERING MARK R',\n",
       " 'THE TRAVEL AGENCY IN THE PARK',\n",
       " 'NOLES JAMES L',\n",
       " 'KEAN STEVEN J',\n",
       " 'FOWLER PEGGY',\n",
       " 'WASAFF GEORGE',\n",
       " 'WHITE JR THOMAS E',\n",
       " 'CHRISTODOULOU DIOMEDES',\n",
       " 'ALLEN PHILLIP K',\n",
       " 'SHARP VICTORIA T',\n",
       " 'JAEDICKE ROBERT',\n",
       " 'WINOKUR JR. HERBERT S',\n",
       " 'BROWN MICHAEL',\n",
       " 'BADUM JAMES P',\n",
       " 'HUGHES JAMES A',\n",
       " 'REYNOLDS LAWRENCE',\n",
       " 'DIMICHELE RICHARD G',\n",
       " 'BHATNAGAR SANJAY',\n",
       " 'CARTER REBECCA C',\n",
       " 'BUCHANAN HAROLD G',\n",
       " 'YEAP SOON',\n",
       " 'MURRAY JULIA H',\n",
       " 'GARLAND C KEVIN',\n",
       " 'DODSON KEITH',\n",
       " 'YEAGER F SCOTT',\n",
       " 'HIRKO JOSEPH',\n",
       " 'DIETRICH JANET R',\n",
       " 'DERRICK JR. JAMES V',\n",
       " 'FREVERT MARK A',\n",
       " 'PAI LOU L',\n",
       " 'BAY FRANKLIN R',\n",
       " 'HAYSLETT RODERICK J',\n",
       " 'FUGH JOHN L',\n",
       " 'FALLON JAMES B',\n",
       " 'KOENIG MARK E',\n",
       " 'SAVAGE FRANK',\n",
       " 'IZZO LAWRENCE L',\n",
       " 'TILNEY ELIZABETH A',\n",
       " 'MARTIN AMANDA K',\n",
       " 'BUY RICHARD B',\n",
       " 'GRAMM WENDY L',\n",
       " 'CAUSEY RICHARD A',\n",
       " 'TAYLOR MITCHELL S',\n",
       " 'DONAHUE JR JEFFREY M',\n",
       " 'GLISAN JR BEN F']"
      ]
     },
     "execution_count": 14,
     "metadata": {},
     "output_type": "execute_result"
    }
   ],
   "source": [
    "names"
   ]
  },
  {
   "cell_type": "code",
   "execution_count": null,
   "metadata": {
    "collapsed": true
   },
   "outputs": [],
   "source": []
  }
 ],
 "metadata": {
  "kernelspec": {
   "display_name": "Python 2",
   "language": "python",
   "name": "python2"
  },
  "language_info": {
   "codemirror_mode": {
    "name": "ipython",
    "version": 2
   },
   "file_extension": ".py",
   "mimetype": "text/x-python",
   "name": "python",
   "nbconvert_exporter": "python",
   "pygments_lexer": "ipython2",
   "version": "2.7.11"
  }
 },
 "nbformat": 4,
 "nbformat_minor": 0
}
