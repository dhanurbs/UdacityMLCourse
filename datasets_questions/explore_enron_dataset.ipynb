{
 "cells": [
  {
   "cell_type": "markdown",
   "metadata": {},
   "source": [
    "# Explore Enron emails dataset"
   ]
  },
  {
   "cell_type": "markdown",
   "metadata": {},
   "source": [
    "## Starter code for exploring the Enron dataset (emails + finances);\n",
    "    loads up the dataset (pickled dict of dicts).\n",
    "\n",
    "    The dataset has the form:\n",
    "    enron_data[\"LASTNAME FIRSTNAME MIDDLEINITIAL\"] = { features_dict }\n",
    "\n",
    "    {features_dict} is a dictionary of features associated with that person.\n",
    "    You should explore features_dict as part of the mini-project,\n",
    "    but here's an example to get you started:\n",
    "\n",
    "    enron_data[\"SKILLING JEFFREY K\"][\"bonus\"] = 5600000"
   ]
  },
  {
   "cell_type": "code",
   "execution_count": 1,
   "metadata": {
    "collapsed": true
   },
   "outputs": [],
   "source": [
    "import pickle\n",
    "\n",
    "enron_data = pickle.load(open(\"../final_project/final_project_dataset.pkl\", \"r\"))"
   ]
  },
  {
   "cell_type": "code",
   "execution_count": 4,
   "metadata": {
    "collapsed": false
   },
   "outputs": [
    {
     "data": {
      "text/plain": [
       "{'bonus': 5600000,\n",
       " 'deferral_payments': 'NaN',\n",
       " 'deferred_income': 'NaN',\n",
       " 'director_fees': 'NaN',\n",
       " 'email_address': 'jeff.skilling@enron.com',\n",
       " 'exercised_stock_options': 19250000,\n",
       " 'expenses': 29336,\n",
       " 'from_messages': 108,\n",
       " 'from_poi_to_this_person': 88,\n",
       " 'from_this_person_to_poi': 30,\n",
       " 'loan_advances': 'NaN',\n",
       " 'long_term_incentive': 1920000,\n",
       " 'other': 22122,\n",
       " 'poi': True,\n",
       " 'restricted_stock': 6843672,\n",
       " 'restricted_stock_deferred': 'NaN',\n",
       " 'salary': 1111258,\n",
       " 'shared_receipt_with_poi': 2042,\n",
       " 'to_messages': 3627,\n",
       " 'total_payments': 8682716,\n",
       " 'total_stock_value': 26093672}"
      ]
     },
     "execution_count": 4,
     "metadata": {},
     "output_type": "execute_result"
    }
   ],
   "source": [
    "enron_data[\"SKILLING JEFFREY K\"]"
   ]
  },
  {
   "cell_type": "markdown",
   "metadata": {},
   "source": [
    "# Quiz 1: Number of elements (people) in the enron_data dictionary"
   ]
  },
  {
   "cell_type": "code",
   "execution_count": 9,
   "metadata": {
    "collapsed": false
   },
   "outputs": [
    {
     "data": {
      "text/plain": [
       "146"
      ]
     },
     "execution_count": 9,
     "metadata": {},
     "output_type": "execute_result"
    }
   ],
   "source": [
    "len(enron_data)"
   ]
  },
  {
   "cell_type": "markdown",
   "metadata": {},
   "source": [
    "# Quiz 2: Number of elements for each person in the dictionary"
   ]
  },
  {
   "cell_type": "code",
   "execution_count": 11,
   "metadata": {
    "collapsed": false
   },
   "outputs": [
    {
     "data": {
      "text/plain": [
       "21"
      ]
     },
     "execution_count": 11,
     "metadata": {},
     "output_type": "execute_result"
    }
   ],
   "source": [
    "len(enron_data[\"SKILLING JEFFREY K\"])"
   ]
  },
  {
   "cell_type": "markdown",
   "metadata": {},
   "source": [
    "# Quiz 3: Finding POIs (persons of interest) In The Enron Data"
   ]
  },
  {
   "cell_type": "code",
   "execution_count": 67,
   "metadata": {
    "collapsed": false
   },
   "outputs": [
    {
     "name": "stdout",
     "output_type": "stream",
     "text": [
      "Number of POIs in the data :  18\n"
     ]
    }
   ],
   "source": [
    "# Get a list of keys ie., names in the dic\n",
    "nameScan = enron_data.keys()\n",
    "\n",
    "count = 0\n",
    "\n",
    "# Iterate over the list and check poi=True condition\n",
    "for i in range(len(nameScan)):\n",
    "    if enron_data[nameScan[i]][\"poi\"] == 1:\n",
    "        count+=1\n",
    "\n",
    "print 'Number of POIs in the data : ', count"
   ]
  },
  {
   "cell_type": "markdown",
   "metadata": {},
   "source": [
    "# Quiz 4: What is the total value of the stock belonging to James Prentice?"
   ]
  },
  {
   "cell_type": "code",
   "execution_count": 83,
   "metadata": {
    "collapsed": false
   },
   "outputs": [
    {
     "name": "stdout",
     "output_type": "stream",
     "text": [
      "BANNANTINE JAMES M\n",
      "PRENTICE JAMES\n",
      "NOLES JAMES L\n",
      "BADUM JAMES P\n",
      "HUGHES JAMES A\n",
      "DERRICK JR. JAMES V\n",
      "FALLON JAMES B\n"
     ]
    }
   ],
   "source": [
    "\n",
    "# print nameScan\n",
    "# Find the names\n",
    "\n",
    "\n",
    "def nameFind(personName):\n",
    "    for nm in nameScan:\n",
    "        if personName.upper() in nm:\n",
    "            print (nm)\n",
    "nameFind('James')"
   ]
  },
  {
   "cell_type": "code",
   "execution_count": 84,
   "metadata": {
    "collapsed": false
   },
   "outputs": [
    {
     "data": {
      "text/plain": [
       "1095040"
      ]
     },
     "execution_count": 84,
     "metadata": {},
     "output_type": "execute_result"
    }
   ],
   "source": [
    "enron_data[\"PRENTICE JAMES\"][\"total_stock_value\"]"
   ]
  },
  {
   "cell_type": "markdown",
   "metadata": {},
   "source": [
    "# Quiz 5: How many email messages do we have from Wesley Colwell to persons of interest?"
   ]
  },
  {
   "cell_type": "code",
   "execution_count": 86,
   "metadata": {
    "collapsed": false
   },
   "outputs": [
    {
     "name": "stdout",
     "output_type": "stream",
     "text": [
      "COLWELL WESLEY\n"
     ]
    }
   ],
   "source": [
    "nameFind('Colwell')"
   ]
  },
  {
   "cell_type": "code",
   "execution_count": 87,
   "metadata": {
    "collapsed": false
   },
   "outputs": [
    {
     "data": {
      "text/plain": [
       "11"
      ]
     },
     "execution_count": 87,
     "metadata": {},
     "output_type": "execute_result"
    }
   ],
   "source": [
    "enron_data[\"COLWELL WESLEY\"][\"from_this_person_to_poi\"]"
   ]
  },
  {
   "cell_type": "code",
   "execution_count": 88,
   "metadata": {
    "collapsed": false
   },
   "outputs": [
    {
     "name": "stdout",
     "output_type": "stream",
     "text": [
      "SKILLING JEFFREY K\n"
     ]
    }
   ],
   "source": [
    "# What’s the value of stock options exercised by Jeffrey Skilling?\n",
    "nameFind('skilling')"
   ]
  },
  {
   "cell_type": "code",
   "execution_count": 92,
   "metadata": {
    "collapsed": false
   },
   "outputs": [
    {
     "data": {
      "text/plain": [
       "19250000"
      ]
     },
     "execution_count": 92,
     "metadata": {},
     "output_type": "execute_result"
    }
   ],
   "source": [
    "enron_data[\"SKILLING JEFFREY K\"][\"exercised_stock_options\"]"
   ]
  },
  {
   "cell_type": "code",
   "execution_count": 126,
   "metadata": {
    "collapsed": false
   },
   "outputs": [],
   "source": [
    "nameScan = enron_data.keys()\n",
    "d = []\n",
    "# Iterate over the list and check poi=True condition\n",
    "for i in range(len(nameScan)):\n",
    "    if enron_data[nameScan[i]][\"total_payments\"] != 'NaN':\n",
    "        d.append([nameScan[i], enron_data[nameScan[i]][\"total_payments\"]])"
   ]
  },
  {
   "cell_type": "code",
   "execution_count": 127,
   "metadata": {
    "collapsed": false
   },
   "outputs": [],
   "source": [
    "d.sort(key=lambda x: x[1],reverse=True)"
   ]
  },
  {
   "cell_type": "code",
   "execution_count": 128,
   "metadata": {
    "collapsed": false
   },
   "outputs": [
    {
     "name": "stdout",
     "output_type": "stream",
     "text": [
      "[['TOTAL', 309886585], ['LAY KENNETH L', 103559793], ['FREVERT MARK A', 17252530], ['BHATNAGAR SANJAY', 15456290], ['LAVORATO JOHN J', 10425757], ['SKILLING JEFFREY K', 8682716], ['MARTIN AMANDA K', 8407016], ['BAXTER JOHN C', 5634343], ['BELDEN TIMOTHY N', 5501630], ['DELAINEY DAVID W', 4747979], ['WHALLEY LAWRENCE G', 4677574], ['ALLEN PHILLIP K', 4484442], ['SHERRIFF JOHN R', 4335388], ['MCMAHON JEFFREY', 4099771], ['HAEDICKE MARK E', 3859065], ['FALLON JAMES B', 3676340], ['KITCHEN LOUISE', 3471141], ['MULLER MARK S', 3202070], ['HORTON STANLEY C', 3131860], ['PAI LOU L', 3123383], ['HUMPHREY GENE E', 3100224], ['SHANKMAN JEFFREY A', 3038702], ['ECHOLS JOHN B', 2692324], ['BOWEN JR RAYMOND M', 2669589], ['LEFF DANIEL P', 2664228], ['KOPPER MICHAEL J', 2652612], ['FASTOW ANDREW S', 2424083], ['DIMICHELE RICHARD G', 2368151], ['BUY RICHARD B', 2355702], ['GOLD JOSEPH', 2146973], ['MCCONNELL MICHAEL S', 2101364], ['DURAN WILLIAM D', 2093263], ['HICKERSON GARY J', 2081796], ['BIBI PHILIPPE A', 2047593], ['BLACHMAN JEREMY M', 2014835], ['SHELBY REX', 2003885], ['IZZO LAWRENCE L', 1979596], ['WHITE JR THOMAS E', 1934359], ['CAUSEY RICHARD A', 1868758], ['MEYER ROCKFORD G', 1848227], ['WALLS JR ROBERT H', 1798780], ['KEAN STEVEN J', 1747522], ['PIPER GREGORY F', 1737629], ['CALGER CHRISTOPHER F', 1639297], ['KOENIG MARK E', 1587421], ['SHARP VICTORIA T', 1576511], ['GARLAND C KEVIN', 1566469], ['SUNDE MARTIN', 1545059], ['COLWELL WESLEY', 1490344], ['FITZGERALD JAY L', 1414857], ['DIETRICH JANET R', 1410464], ['PICKERING MARK R', 1386690], ['OLSON CINDY K', 1321557], ['MCCLELLAN GEORGE', 1318763], ['HERMANN ROBERT J', 1297461], ['GLISAN JR BEN F', 1272284], ['BUTTS ROBERT H', 1271582], ['DEFFNER JOSEPH M', 1208649], ['DETMERING TIMOTHY J', 1204583], ['GRAY RODNEY', 1146658], ['UMANOFF ADAM S', 1130461], ['STABLER FRANK', 1112087], ['COX DAVID', 1101393], ['RIEKER PAULA H', 1099100], ['TAYLOR MITCHELL S', 1092663], ['KAMINSKI WINCENTY J', 1086821], ['METTS MARK', 1061827], ['SHAPIRO RICHARD S', 1057548], ['BUCHANAN HAROLD G', 1054637], ['WASAFF GEORGE', 1034395], ['SULLIVAN-SHAKLOVITZ COLLEEN', 999356], ['BECK SALLY W', 969068], ['GIBBS DANA R', 966522], ['BANNANTINE JAMES M', 916197], ['THORN TERENCE H', 911453], ['GAHN ROBERT S', 900585], ['LINDHOLM TOD A', 875889], ['DONAHUE JR JEFFREY M', 875760], ['BAZELIDES PHILIP J', 860136], ['BAY FRANKLIN R', 827696], ['MURRAY JULIA H', 812194], ['CUMBERLAND MICHAEL S', 807956], ['NOLES JAMES L', 774401], ['WESTFAHL RICHARD K', 762135], ['KISHKILL JOSEPH G', 704896], ['MORDAUNT KRISTINA M', 628522], ['BERGSIEKER RICHARD P', 618850], ['PRENTICE JAMES', 564348], ['JACKSON CHARLENE R', 551174], ['DERRICK JR. JAMES V', 550981], ['RICE KENNETH D', 505050], ['CARTER REBECCA C', 477557], ['TILNEY ELIZABETH A', 399393], ['REYNOLDS LAWRENCE', 394475], ['THE TRAVEL AGENCY IN THE PARK', 362096], ['YEAGER F SCOTT', 360300], ['DODSON KEITH', 319941], ['HANNON KEVIN P', 288682], ['OVERDYKE JR JERE C', 249787], ['URQUHART JOHN A', 228656], ['BERBERIAN DAVID', 228474], ['WAKEHAM JOHN', 213071], ['ELLIOTT STEVEN', 211725], ['WODRASKA JOHN', 189583], ['BADUM JAMES P', 182466], ['FOY JOE', 181755], ['GRAMM WENDY L', 119292], ['REDMOND BRIAN L', 111529], ['BELFER ROBERT', 102500], ['HIRKO JOSEPH', 91093], ['LEMAISTRE CHARLES', 87492], ['WALTERS GARETH W', 87410], ['WINOKUR JR. HERBERT S', 84992], ['JAEDICKE ROBERT', 83750], ['DUNCAN JOHN H', 77492], ['YEAP SOON', 55097], ['FUGH JOHN L', 50591], ['BROWN MICHAEL', 49288], ['PEREIRA PAULO V. FERRAZ', 27942], ['HAYES ROBERT E', 7961], ['SAVAGE FRANK', 3750], ['MEYER JEROME J', 2151], ['BLAKE JR. NORMAN P', 1279], ['HAUG DAVID L', 475], ['MENDELSOHN JOHN', 148]]\n"
     ]
    }
   ],
   "source": [
    "print d"
   ]
  },
  {
   "cell_type": "markdown",
   "metadata": {},
   "source": [
    "# How many had salaries that were quantified "
   ]
  },
  {
   "cell_type": "code",
   "execution_count": 130,
   "metadata": {
    "collapsed": false
   },
   "outputs": [
    {
     "name": "stdout",
     "output_type": "stream",
     "text": [
      "Number of people with quantifiable salary :  95\n"
     ]
    }
   ],
   "source": [
    "nameScan = enron_data.keys()\n",
    "\n",
    "count = 0\n",
    "\n",
    "# Iterate over the list and check poi=True condition\n",
    "for i in range(len(nameScan)):\n",
    "    if enron_data[nameScan[i]][\"salary\"] != 'NaN':\n",
    "        count+=1\n",
    "\n",
    "print 'Number of people with quantifiable salary : ', count"
   ]
  },
  {
   "cell_type": "markdown",
   "metadata": {},
   "source": [
    "# How many had known emails"
   ]
  },
  {
   "cell_type": "code",
   "execution_count": 132,
   "metadata": {
    "collapsed": false
   },
   "outputs": [
    {
     "name": "stdout",
     "output_type": "stream",
     "text": [
      "Number of people with valid email address :  111\n"
     ]
    }
   ],
   "source": [
    "count = 0\n",
    "\n",
    "# Iterate over the list and check poi=True condition\n",
    "for i in range(len(nameScan)):\n",
    "    if enron_data[nameScan[i]][\"email_address\"] != 'NaN':\n",
    "        count+=1\n",
    "\n",
    "print 'Number of people with valid email address : ', count"
   ]
  },
  {
   "cell_type": "markdown",
   "metadata": {},
   "source": [
    "# How many have 'NaN' for total payments"
   ]
  },
  {
   "cell_type": "code",
   "execution_count": 133,
   "metadata": {
    "collapsed": false
   },
   "outputs": [
    {
     "name": "stdout",
     "output_type": "stream",
     "text": [
      "Number of people with no total payments :  21\n",
      "Number of total people :  146\n"
     ]
    }
   ],
   "source": [
    "count = 0\n",
    "\n",
    "# Iterate over the list and check poi=True condition\n",
    "for i in range(len(nameScan)):\n",
    "    if enron_data[nameScan[i]][\"total_payments\"] == 'NaN':\n",
    "        count+=1\n",
    "\n",
    "print 'Number of people with no total payments : ', count\n",
    "\n",
    "totalCount = len(nameScan)\n",
    "print 'Number of total people : ', totalCount"
   ]
  },
  {
   "cell_type": "code",
   "execution_count": 135,
   "metadata": {
    "collapsed": false
   },
   "outputs": [
    {
     "name": "stdout",
     "output_type": "stream",
     "text": [
      "Number of POIs in the data with NaNs :  0\n"
     ]
    }
   ],
   "source": [
    "count = 0\n",
    "\n",
    "# Iterate over the list and check poi=True condition\n",
    "for i in range(len(nameScan)):\n",
    "    if enron_data[nameScan[i]][\"poi\"] == 1:\n",
    "        if enron_data[nameScan[i]][\"total_payments\"] == 'NaN':\n",
    "            count+=1\n",
    "\n",
    "print 'Number of POIs in the data with NaNs : ', count"
   ]
  },
  {
   "cell_type": "code",
   "execution_count": null,
   "metadata": {
    "collapsed": true
   },
   "outputs": [],
   "source": []
  }
 ],
 "metadata": {
  "kernelspec": {
   "display_name": "Python 2",
   "language": "python",
   "name": "python2"
  },
  "language_info": {
   "codemirror_mode": {
    "name": "ipython",
    "version": 2
   },
   "file_extension": ".py",
   "mimetype": "text/x-python",
   "name": "python",
   "nbconvert_exporter": "python",
   "pygments_lexer": "ipython2",
   "version": "2.7.11"
  }
 },
 "nbformat": 4,
 "nbformat_minor": 0
}
